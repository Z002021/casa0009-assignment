{
 "cells": [
  {
   "cell_type": "markdown",
   "id": "e22f07dc-e469-4c32-959f-e7c3f9a79fde",
   "metadata": {},
   "source": [
    "# CASA0009: Group Assignment (Part 1)\n",
    "\n",
    "__Topic: An Investigation into the Biodiversity of England__\n",
    "\n",
    "This set of codes is for the analysis of Part 1: Overiew of Biodiversity Levels in England."
   ]
  },
  {
   "cell_type": "code",
   "execution_count": 1,
   "id": "39c8ec07-9610-4128-a59e-71f7a6aa4ba0",
   "metadata": {},
   "outputs": [],
   "source": [
    "# Load libraries\n",
    "\n",
    "import pandas as pd\n",
    "import geopandas as gpd\n",
    "import numpy as np\n",
    "import math"
   ]
  },
  {
   "cell_type": "code",
   "execution_count": 2,
   "id": "580ce581-7e45-4656-8ccb-947d46898e6d",
   "metadata": {},
   "outputs": [],
   "source": [
    "# Create function to compute number of occurrences, species richness and species evenness (ref: https://sciencing.com/calculate-species-evenness-2851.html)\n",
    "def cal_indicators(df):\n",
    "    \n",
    "    # Compute number of occurrences\n",
    "    occ = len(df)\n",
    "    \n",
    "    # Compute  species richness\n",
    "    sp_richness = len(df.speciesKey.unique().tolist())\n",
    "    \n",
    "    # Create frequency table of species\n",
    "    df_out = df.groupby('speciesKey').count().reset_index()[['speciesKey', 'gbifID']].rename({'gbifID': 'Count'}, axis = 1)\n",
    "\n",
    "    # Compute proportion of all species\n",
    "    df_out['Proportion'] = df_out['Count'] / occ\n",
    "\n",
    "    # Compute natural log of proportion\n",
    "    df_out['ln_P'] = df_out['Proportion'].apply(math.log)\n",
    "\n",
    "    # Compute P x In P\n",
    "    df_out['P_ln_P'] = df_out['Proportion'] * df_out['ln_P']\n",
    "\n",
    "    # Compute Shannon diversity index\n",
    "    H = -sum(df_out['P_ln_P'])\n",
    "\n",
    "    # Compute species evenness\n",
    "    if sp_richness == 1:\n",
    "        sp_evenness = 0\n",
    "    else:\n",
    "        sp_evenness = H / math.log(sp_richness)\n",
    "    \n",
    "    return occ, sp_richness, sp_evenness"
   ]
  },
  {
   "cell_type": "markdown",
   "id": "bc9dd5f5-c78b-441c-be51-44201d5e36a4",
   "metadata": {},
   "source": [
    "## Load boundaries of Local Authorities"
   ]
  },
  {
   "cell_type": "code",
   "execution_count": 3,
   "id": "640a1a6b-e2fa-46f4-b3d3-017c9d9f508e",
   "metadata": {},
   "outputs": [],
   "source": [
    "# read in England LAs\n",
    "eng_LA = gpd.read_file('Data/England_LA/eng_LA.shp')"
   ]
  },
  {
   "cell_type": "code",
   "execution_count": 4,
   "id": "976909f5-19ff-45d3-9dae-15d99049fef1",
   "metadata": {},
   "outputs": [],
   "source": [
    "# convert to BNG for computing area\n",
    "eng_LA = eng_LA.to_crs('epsg:27700')"
   ]
  },
  {
   "cell_type": "code",
   "execution_count": 5,
   "id": "313d7c45-cbb4-4270-b44e-15e4f86f867e",
   "metadata": {},
   "outputs": [],
   "source": [
    "# compute area\n",
    "eng_LA.SHAPE_Area = eng_LA.area\n",
    "\n",
    "area_list = eng_LA.SHAPE_Area.tolist()"
   ]
  },
  {
   "cell_type": "code",
   "execution_count": 6,
   "id": "ab750d8f-fb68-4503-bb93-41abea048ada",
   "metadata": {},
   "outputs": [],
   "source": [
    "# reconvert back to WGS84 because Plotly uses WGS84\n",
    "eng_LA = eng_LA.to_crs('epsg:4326')"
   ]
  },
  {
   "cell_type": "markdown",
   "id": "9de87937-bd6c-433b-98a9-0520bc86e16d",
   "metadata": {},
   "source": [
    "## Compute for Each Year"
   ]
  },
  {
   "cell_type": "code",
   "execution_count": 7,
   "id": "9e390d25-a250-4256-8f13-bad49e5a2959",
   "metadata": {},
   "outputs": [],
   "source": [
    "# Set columns to import from file\n",
    "\n",
    "col_name = ['gbifID', \n",
    "            'occurrenceStatus',\n",
    "            'decimalLatitude', \n",
    "            'decimalLongitude',\n",
    "            'month', \n",
    "            'year', \n",
    "            'speciesKey', \n",
    "            'issue']"
   ]
  },
  {
   "cell_type": "code",
   "execution_count": 8,
   "id": "6f38f476-a01e-4cb0-8c06-21423ee21276",
   "metadata": {},
   "outputs": [],
   "source": [
    "# Set years from 2011 to 2021\n",
    "years = ['2011', '2012', '2013', '2014', '2015', '2016', '2017', '2018', '2019', '2020', '2021']\n"
   ]
  },
  {
   "cell_type": "code",
   "execution_count": 9,
   "id": "775080d0-59fb-4b7f-a608-c46ef9d56c1c",
   "metadata": {},
   "outputs": [],
   "source": [
    "# Create empty dataframe to hold combined results\n",
    "output_col = ['LAD21NM', 'year', 'occ_den', 'sp_richness', 'sp_evenness']\n",
    "df_final = pd.DataFrame(columns=output_col)"
   ]
  },
  {
   "cell_type": "code",
   "execution_count": null,
   "id": "faacd607-2ffc-48e7-a6b4-7a7b29495264",
   "metadata": {},
   "outputs": [
    {
     "name": "stdout",
     "output_type": "stream",
     "text": [
      "Analyzing 2011\n",
      "Analyzing 2012\n",
      "Analyzing 2013\n",
      "Analyzing 2014\n",
      "Analyzing 2015\n",
      "Analyzing 2016\n",
      "Analyzing 2017\n",
      "Analyzing 2018\n",
      "Analyzing 2019\n",
      "Analyzing 2020\n",
      "Analyzing 2021\n"
     ]
    }
   ],
   "source": [
    "for year in years:\n",
    "    \n",
    "    print(f'Analyzing {year}')\n",
    "    \n",
    "    # Set data path\n",
    "    data_path = 'Data/Part1Data/England_'+year+'.zip'\n",
    "    \n",
    "    # Import data - occurrence data downloaded from GBIF with the following search parameters:\n",
    "    # Administrative areas (gadm.org): GBR.1_1 (i.e. England)\n",
    "    # Occurrence status: present\n",
    "    # Year: Between start of 20xx and end of 20xx (between 2011 and 2021)\n",
    "    pdf = pd.read_csv(data_path, compression='zip',sep='\\t', low_memory=False, usecols=col_name)\n",
    "    \n",
    "    # Issue (1): Check that all occurrence status are 'PRESENT'\n",
    "    pdf = pdf[pdf.occurrenceStatus == 'PRESENT']\n",
    "\n",
    "    # Issue (2): Check that all species key is recorded\n",
    "    pdf.dropna(axis=0, subset=['speciesKey'], inplace=True)\n",
    "    \n",
    "    # Convert to geopanda dataframe\n",
    "    gdf = gpd.GeoDataFrame(pdf, \n",
    "                           geometry=gpd.points_from_xy(pdf['decimalLongitude'], pdf['decimalLatitude'], \n",
    "                                                       crs='epsg:4326'))\n",
    "    \n",
    "    # Spatial join to match to LADs\n",
    "    gdf = gpd.sjoin(gdf, eng_LA, op='within')\n",
    "    \n",
    "    # create lists to hold LADs, number of occurrences, species list, species richness and species evenness\n",
    "    lads = eng_LA.LAD21NM.tolist()\n",
    "    occurrences_density = []\n",
    "    species_richness = []\n",
    "    species_evenness = []\n",
    "    year_list = [year] * len(lads)\n",
    "    \n",
    "    # Compute indicators (occurrences density, species richness and species evenness) for each LAD\n",
    "    for i in range(len(lads)):\n",
    "    \n",
    "        lad = lads[i]\n",
    "        \n",
    "        # segment out LAD\n",
    "        df = gdf[gdf[\"LAD21NM\"] == lad]\n",
    "    \n",
    "        # Compute indicators\n",
    "        occ, sp_richness, sp_evenness = cal_indicators(df)\n",
    "        occ = occ/area_list[i]\n",
    "        sp_richness = sp_richness/area_list[i]\n",
    "    \n",
    "        # append values to list\n",
    "        occurrences_density.append(occ)\n",
    "        species_richness.append(sp_richness)\n",
    "        species_evenness.append(sp_evenness)\n",
    "        \n",
    "    # Create dataframe\n",
    "    df_ind = pd.DataFrame(list(zip(lads, year_list, occurrences_density, species_richness, species_evenness)), \n",
    "                          columns=output_col)\n",
    "    \n",
    "    # Save output\n",
    "    out_path = 'Output/Part1/Yearly/lad_ind_'+year+'.csv'\n",
    "    df_ind.to_csv(out_path, index=False)\n",
    "    \n",
    "    # Concatenate to final results\n",
    "    df_final = pd.concat([df_final, df_ind], ignore_index=True)\n",
    "    \n",
    "print('Done!')"
   ]
  },
  {
   "cell_type": "code",
   "execution_count": null,
   "id": "0045f4ee-16d7-4d34-a48d-0f8c2af564fb",
   "metadata": {},
   "outputs": [],
   "source": [
    "df_final"
   ]
  },
  {
   "cell_type": "code",
   "execution_count": null,
   "id": "31b850b3-fde2-46e2-8810-63e5db7d902d",
   "metadata": {},
   "outputs": [],
   "source": [
    "# Save output\n",
    "df_final.to_csv('Output/Part1/LA_ind.csv', index=False)"
   ]
  }
 ],
 "metadata": {
  "kernelspec": {
   "display_name": "Python 3 (ipykernel)",
   "language": "python",
   "name": "python3"
  },
  "language_info": {
   "codemirror_mode": {
    "name": "ipython",
    "version": 3
   },
   "file_extension": ".py",
   "mimetype": "text/x-python",
   "name": "python",
   "nbconvert_exporter": "python",
   "pygments_lexer": "ipython3",
   "version": "3.9.6"
  }
 },
 "nbformat": 4,
 "nbformat_minor": 5
}
