{
 "cells": [
  {
   "cell_type": "markdown",
   "id": "c56e1354-3775-4560-a97a-e43078e2702d",
   "metadata": {},
   "source": [
    "# CASA0009: Group Assignment (Part 3)\n",
    "\n",
    "__Topic: An Investigation into the Biodiversity of England__\n",
    "\n",
    "This set of codes is for the analysis of Part 3: Biodiversity hotspots in London.\n"
   ]
  },
  {
   "cell_type": "code",
   "execution_count": 1,
   "id": "db0b6d78-8113-4972-9627-570c7d9c0681",
   "metadata": {},
   "outputs": [
    {
     "name": "stdout",
     "output_type": "stream",
     "text": [
      "Requirement already satisfied: kneed in /opt/conda/envs/sds2021/lib/python3.9/site-packages (0.7.0)\n",
      "Requirement already satisfied: matplotlib in /opt/conda/envs/sds2021/lib/python3.9/site-packages (from kneed) (3.4.2)\n",
      "Requirement already satisfied: scipy in /opt/conda/envs/sds2021/lib/python3.9/site-packages (from kneed) (1.7.0)\n",
      "Requirement already satisfied: numpy>=1.14.2 in /opt/conda/envs/sds2021/lib/python3.9/site-packages (from kneed) (1.21.1)\n",
      "Requirement already satisfied: pillow>=6.2.0 in /opt/conda/envs/sds2021/lib/python3.9/site-packages (from matplotlib->kneed) (8.2.0)\n",
      "Requirement already satisfied: kiwisolver>=1.0.1 in /opt/conda/envs/sds2021/lib/python3.9/site-packages (from matplotlib->kneed) (1.3.1)\n",
      "Requirement already satisfied: pyparsing>=2.2.1 in /opt/conda/envs/sds2021/lib/python3.9/site-packages (from matplotlib->kneed) (2.4.7)\n",
      "Requirement already satisfied: python-dateutil>=2.7 in /opt/conda/envs/sds2021/lib/python3.9/site-packages (from matplotlib->kneed) (2.8.0)\n",
      "Requirement already satisfied: cycler>=0.10 in /opt/conda/envs/sds2021/lib/python3.9/site-packages (from matplotlib->kneed) (0.10.0)\n",
      "Requirement already satisfied: six in /opt/conda/envs/sds2021/lib/python3.9/site-packages (from cycler>=0.10->matplotlib->kneed) (1.16.0)\n"
     ]
    }
   ],
   "source": [
    "# install kneed to find knee in KNN plot\n",
    "!pip install kneed"
   ]
  },
  {
   "cell_type": "code",
   "execution_count": 2,
   "id": "b8c57205-5068-4d4f-9fe2-227834a7aed6",
   "metadata": {},
   "outputs": [],
   "source": [
    "# Load libraries\n",
    "\n",
    "import pandas as pd\n",
    "import geopandas as gpd\n",
    "import os\n",
    "import numpy as np\n",
    "import math\n",
    "import matplotlib.pyplot as plt\n",
    "import time\n",
    "import seaborn as sns\n",
    "\n",
    "from sklearn.neighbors import NearestNeighbors\n",
    "from sklearn.cluster import DBSCAN, OPTICS\n",
    "from kneed import KneeLocator\n",
    "\n",
    "from sklearn.preprocessing import MinMaxScaler\n",
    "from sklearn.cluster import KMeans\n",
    "from sklearn.metrics import silhouette_samples, silhouette_score\n"
   ]
  },
  {
   "cell_type": "code",
   "execution_count": 3,
   "id": "bae154aa-95ad-4659-b5f2-f2e42882c504",
   "metadata": {},
   "outputs": [],
   "source": [
    "# Create function to compute number of occurrences, species richness and species evenness (ref: https://sciencing.com/calculate-species-evenness-2851.html)\n",
    "def cal_indicators(df):\n",
    "    \n",
    "    # Compute number of occurrences\n",
    "    occ = len(df)\n",
    "    \n",
    "    # Compute  species richness\n",
    "    sp_richness = len(df.speciesKey.unique().tolist())\n",
    "    \n",
    "    # Create frequency table of species\n",
    "    df_out = df.groupby('speciesKey').count().reset_index()[['speciesKey', 'gbifID']].rename({'gbifID': 'Count'}, axis = 1)\n",
    "\n",
    "    # Compute proportion of all species\n",
    "    df_out['Proportion'] = df_out['Count'] / occ\n",
    "\n",
    "    # Compute natural log of proportion\n",
    "    df_out['ln_P'] = df_out['Proportion'].apply(math.log)\n",
    "\n",
    "    # Compute P x In P\n",
    "    df_out['P_ln_P'] = df_out['Proportion'] * df_out['ln_P']\n",
    "\n",
    "    # Compute Shannon diversity index\n",
    "    H = -sum(df_out['P_ln_P'])\n",
    "\n",
    "    # Compute species evenness\n",
    "    if sp_richness == 1:\n",
    "        sp_evenness = 0\n",
    "    else:\n",
    "        sp_evenness = H / math.log(sp_richness)\n",
    "    \n",
    "    return occ, sp_richness, sp_evenness"
   ]
  },
  {
   "cell_type": "markdown",
   "id": "58627e67-b567-4a65-af84-a2ae48e550f7",
   "metadata": {},
   "source": [
    "## Load Data\n",
    "\n",
    "### Occurrence data"
   ]
  },
  {
   "cell_type": "code",
   "execution_count": 4,
   "id": "4caa2c4d-4dfd-4566-b247-f7d53976961e",
   "metadata": {},
   "outputs": [],
   "source": [
    "# Import data - occurrence data downloaded from GBIF with the following search parameters:\n",
    "# Administrative areas (gadm.org): GBR.1.36_1 (i.e. London)\n",
    "# Year: Between start of 2011 and end of 2021\n",
    "\n",
    "col_name = ['gbifID', \n",
    "            'decimalLatitude', \n",
    "            'decimalLongitude',\n",
    "            'month', \n",
    "            'year', \n",
    "            'speciesKey', \n",
    "            'issue']\n",
    "\n",
    "ldn_pdf = pd.read_csv(os.path.join(\"Data\", \"London_2011_21.csv\"), sep='\\t', low_memory=False, usecols=col_name)"
   ]
  },
  {
   "cell_type": "code",
   "execution_count": 5,
   "id": "0295f35a-dcae-4a48-a415-642d9450556a",
   "metadata": {},
   "outputs": [],
   "source": [
    "# Convert to geopanda dataframe\n",
    "ldn_gdf = gpd.GeoDataFrame(ldn_pdf, \n",
    "                           geometry=gpd.points_from_xy(ldn_pdf['decimalLongitude'], ldn_pdf['decimalLatitude'], \n",
    "                                                       crs='epsg:4326'))"
   ]
  },
  {
   "cell_type": "code",
   "execution_count": 6,
   "id": "ec34ae49-e271-4224-98ce-d92d2f2a1c4a",
   "metadata": {},
   "outputs": [],
   "source": [
    "# Extract occurrences in 2021\n",
    "ldn_2021 = ldn_gdf[ldn_gdf['year'] == 2021]"
   ]
  },
  {
   "cell_type": "code",
   "execution_count": 7,
   "id": "eaf60804-4a1c-4f6c-8ba6-8f64a97d9cc8",
   "metadata": {},
   "outputs": [],
   "source": [
    "# Re-project to BNG\n",
    "ldn_2021 = ldn_2021.to_crs(\"epsg:27700\")"
   ]
  },
  {
   "cell_type": "markdown",
   "id": "17038de8-0230-47e3-9aee-97811e856ef4",
   "metadata": {},
   "source": [
    "### London map"
   ]
  },
  {
   "cell_type": "code",
   "execution_count": 8,
   "id": "f4daaa22-d5a8-4418-82c6-2a76ccae8946",
   "metadata": {},
   "outputs": [
    {
     "name": "stderr",
     "output_type": "stream",
     "text": [
      "/opt/conda/envs/sds2021/lib/python3.9/site-packages/geopandas/geodataframe.py:577: RuntimeWarning: Sequential read of iterator was interrupted. Resetting iterator. This can negatively impact the performance.\n",
      "  for feature in features_lst:\n"
     ]
    }
   ],
   "source": [
    "# Get London map\n",
    "boros = gpd.read_file('Data/London_Boroughs.gpkg')\n",
    "boros = boros.to_crs('epsg:27700')\n",
    "\n",
    "ldn = gpd.GeoDataFrame(gpd.GeoSeries(data=boros.unary_union, crs='epsg:27700')).rename(columns={0:'original'})\n",
    "ldn = ldn.set_geometry('original')"
   ]
  },
  {
   "cell_type": "code",
   "execution_count": 9,
   "id": "329a65a7-eb10-4056-b5c0-2f003b177209",
   "metadata": {},
   "outputs": [],
   "source": [
    "# Spatial join - ensuring that all occurrences are within London\n",
    "ldn_2021 = gpd.sjoin(ldn_2021, ldn, op='intersects')\n",
    "ldn_2021_cleaned = ldn_2021.drop(ldn_2021[(~ldn_2021.issue.isna()) & (ldn_2021.issue.str.contains('COORDINATE_ROUNDED'))].index)"
   ]
  },
  {
   "cell_type": "markdown",
   "id": "85c0bc9e-4f9a-4338-855d-f0294362f990",
   "metadata": {},
   "source": [
    "## First Pass: OPTICS\n",
    "\n",
    "### Prep data"
   ]
  },
  {
   "cell_type": "code",
   "execution_count": 10,
   "id": "dae0c5d3-244b-44f4-952c-1e90a7a9f084",
   "metadata": {},
   "outputs": [],
   "source": [
    "# Get x, y-coords\n",
    "ldn_2021_cleaned['x'] = ldn_2021_cleaned.geometry.x\n",
    "ldn_2021_cleaned['y'] = ldn_2021_cleaned.geometry.y"
   ]
  },
  {
   "cell_type": "code",
   "execution_count": 11,
   "id": "be167638-073b-436e-a626-409d21adfe24",
   "metadata": {},
   "outputs": [],
   "source": [
    "# Prep dataset for DBSCAN clustering\n",
    "cdf = ldn_2021_cleaned[['x','y']]"
   ]
  },
  {
   "cell_type": "markdown",
   "id": "c690293c-1bb9-47d4-bb85-707555e4c92c",
   "metadata": {},
   "source": [
    "### Set parameters - minPts and epsilon"
   ]
  },
  {
   "cell_type": "code",
   "execution_count": 12,
   "id": "0b3c5680-41dc-4337-954b-958c52bc4827",
   "metadata": {},
   "outputs": [],
   "source": [
    "# Set min number of points for a cluster - arbitrarily choose 1% of all occurrences\n",
    "minPts = round(0.01*len(cdf))"
   ]
  },
  {
   "cell_type": "code",
   "execution_count": 13,
   "id": "525e1da6-9a9b-483f-9b9f-1e92f69928f4",
   "metadata": {},
   "outputs": [],
   "source": [
    "# Nearest Neighbour. \n",
    "# Note that as we are using BNG, we can use Euclidean dist (instead of haversine method),\n",
    "# and all distances are in metres.\n",
    "\n",
    "nbrs = NearestNeighbors(n_neighbors=minPts).fit(cdf)\n",
    "distances, indices = nbrs.kneighbors(cdf)\n"
   ]
  },
  {
   "cell_type": "code",
   "execution_count": 14,
   "id": "fff72b54-5237-4982-92fe-c12fb81bcda3",
   "metadata": {},
   "outputs": [],
   "source": [
    "distances = np.sort(distances[:,minPts-1], axis=0)"
   ]
  },
  {
   "cell_type": "code",
   "execution_count": 15,
   "id": "b2b9cd11-d508-489f-9bc6-79529f904069",
   "metadata": {},
   "outputs": [
    {
     "name": "stdout",
     "output_type": "stream",
     "text": [
      "3015.5440681806886\n"
     ]
    },
    {
     "data": {
      "text/plain": [
       "<Figure size 360x360 with 0 Axes>"
      ]
     },
     "metadata": {},
     "output_type": "display_data"
    },
    {
     "data": {
      "image/png": "[encoded data removed]",
      "text/plain": [
       "<Figure size 432x432 with 1 Axes>"
      ]
     },
     "metadata": {
      "needs_background": "light"
     },
     "output_type": "display_data"
    }
   ],
   "source": [
    "# Reference: https://towardsdatascience.com/how-to-use-dbscan-effectively-ed212c02e62\n",
    "\n",
    "i = np.arange(len(distances))\n",
    "knee = KneeLocator(i, distances, S=1, curve='convex', direction='increasing', interp_method='polynomial')\n",
    "fig = plt.figure(figsize=(5, 5))\n",
    "knee.plot_knee()\n",
    "plt.xlabel(\"Points\")\n",
    "plt.ylabel(\"Distance (metres)\")\n",
    "\n",
    "epsilon = distances[knee.knee]\n",
    "print(epsilon)"
   ]
  },
  {
   "cell_type": "markdown",
   "id": "93926ef7-8d7d-4243-83a2-43b3320b0932",
   "metadata": {},
   "source": [
    "### Run OPTICS"
   ]
  },
  {
   "cell_type": "code",
   "execution_count": 16,
   "id": "7b259a19-555b-4495-b88e-b07eb6e757ae",
   "metadata": {},
   "outputs": [
    {
     "name": "stderr",
     "output_type": "stream",
     "text": [
      "/opt/conda/envs/sds2021/lib/python3.9/site-packages/sklearn/cluster/_optics.py:807: RuntimeWarning: divide by zero encountered in true_divide\n",
      "  ratio = reachability_plot[:-1] / reachability_plot[1:]\n"
     ]
    },
    {
     "data": {
      "text/plain": [
       "OPTICS(max_eps=3015.5440681806886, metric='euclidean', min_samples=590,\n",
       "       n_jobs=-1)"
      ]
     },
     "execution_count": 16,
     "metadata": {},
     "output_type": "execute_result"
    }
   ],
   "source": [
    "opt = OPTICS(min_samples=minPts, max_eps=epsilon, metric = 'euclidean', n_jobs=-1)\n",
    "opt.fit(cdf)"
   ]
  },
  {
   "cell_type": "code",
   "execution_count": 17,
   "id": "fffcbde2-f44a-4a57-84d1-8473db949397",
   "metadata": {},
   "outputs": [],
   "source": [
    "# Attach membership back to dataframe\n",
    "ldn_2021_cleaned['hotspot'] = opt.labels_"
   ]
  },
  {
   "cell_type": "markdown",
   "id": "d52a832a-270d-4612-b8d1-db2a4056dcb7",
   "metadata": {},
   "source": [
    "### Draw convex hull around hotspots"
   ]
  },
  {
   "cell_type": "code",
   "execution_count": 18,
   "id": "657b445c-7ba7-4b54-bed4-1dbb4ff92e0b",
   "metadata": {},
   "outputs": [],
   "source": [
    "# Create empty geodataframe\n",
    "chull = gpd.GeoDataFrame(columns=['hotspot', 'convex_hull'])\n",
    "\n",
    "for i in range(0, max(ldn_2021_cleaned['hotspot'])+1):\n",
    "    \n",
    "    # retrieve occurrences in cluster\n",
    "    convex_pt = ldn_2021_cleaned[ldn_2021_cleaned['hotspot'] == i]\n",
    "    # create convex hull\n",
    "    #hull = gpd.GeoSeries(data = convex_pt.unary_union.convex_hull, crs='epsg:27700')\n",
    "    # add row to chull\n",
    "    hull = gpd.GeoDataFrame(gpd.GeoSeries(data = convex_pt.unary_union.convex_hull, crs='epsg:27700')).rename(columns={0:chull.columns[1]})\n",
    "    hull[chull.columns[0]] = i\n",
    "    chull = chull.append(hull)\n",
    "        \n",
    "chull.reset_index().drop(columns='index', inplace = True)\n",
    "\n",
    "chull = chull.set_geometry('convex_hull', crs='epsg:27700')\n",
    "\n",
    "chull.reset_index(drop=True, inplace=True)\n",
    "hotspot_drop = chull[chull.geom_type != 'Polygon'].index\n",
    "chull.drop(hotspot_drop, axis=0, inplace=True)\n",
    "chull.reset_index(drop=True, inplace=True)\n",
    "\n",
    "hotspot_noise = list(hotspot_drop)+[-1]\n",
    "hotspot_original = hotspot_noise + list(chull['hotspot'])\n",
    "hotspot_new = ([-1]*len(hotspot_noise)) + list(chull.index+1)\n",
    "mapping = dict(zip(hotspot_original, hotspot_new))\n",
    "chull['hotspot'] = chull['hotspot'].map(mapping)\n",
    "ldn_2021_cleaned['hotspot'] = ldn_2021_cleaned['hotspot'].map(mapping)"
   ]
  },
  {
   "cell_type": "markdown",
   "id": "1a7ac627-caf1-4c33-ad48-cce2ffe4c1d8",
   "metadata": {},
   "source": [
    "## Second Pass: KMeans Clustering\n",
    "\n",
    "### Compute indicators for hotspots in each year"
   ]
  },
  {
   "cell_type": "code",
   "execution_count": 19,
   "id": "5651dc2d-cdf3-4796-8773-32457b154064",
   "metadata": {},
   "outputs": [],
   "source": [
    "# Spatial join to find occurrences within the hotspots\n",
    "ldn_hotspot = gpd.sjoin(ldn_2021.drop(columns='index_right'), chull, op='intersects')\n",
    "ldn_hotspot.drop(columns='index_right', inplace=True)"
   ]
  },
  {
   "cell_type": "code",
   "execution_count": 20,
   "id": "7a69c37c-88c0-4464-99c7-9fec27005158",
   "metadata": {},
   "outputs": [],
   "source": [
    "# Create lists for parameters - hotspots\n",
    "hotspots = list(chull.hotspot)\n",
    "indicators = ['occ', 'sp_richness', 'sp_evenness']"
   ]
  },
  {
   "cell_type": "code",
   "execution_count": 21,
   "id": "69828cca-b78f-4855-9c83-80c110636f24",
   "metadata": {},
   "outputs": [],
   "source": [
    "# Create lists to hold outputs in long format\n",
    "hotspot = []\n",
    "indicator = []\n",
    "value = []"
   ]
  },
  {
   "cell_type": "code",
   "execution_count": 22,
   "id": "dc9477df-9b95-42be-96fb-2212916a28d0",
   "metadata": {},
   "outputs": [],
   "source": [
    "# Compute area of each hotspot\n",
    "hotspot_area = chull.area"
   ]
  },
  {
   "cell_type": "code",
   "execution_count": 23,
   "id": "2c7e87e3-7bf8-4f96-bfa0-9418561723c8",
   "metadata": {},
   "outputs": [],
   "source": [
    "# Compute indicators in long format\n",
    "\n",
    "# for each hotspot\n",
    "for hotspot_idx in hotspots:\n",
    "    # segment out data\n",
    "    df_hotspot = ldn_hotspot[ldn_hotspot['hotspot'] == hotspot_idx]\n",
    "    # compute indicators\n",
    "    if len(df_hotspot) == 0:\n",
    "        globals()[indicators[0]] = 0\n",
    "        globals()[indicators[1]] = 0\n",
    "        globals()[indicators[2]] = 0\n",
    "    else:\n",
    "        globals()[indicators[0]], globals()[indicators[1]], globals()[indicators[2]] = cal_indicators(df_hotspot)\n",
    "    # convert occurrence and species richness data to density\n",
    "    occ = occ/hotspot_area[hotspot_idx-1]\n",
    "    sp_richness = sp_richness/hotspot_area[hotspot_idx-1]\n",
    "        \n",
    "    # for each indicator:\n",
    "    for indicator_idx in indicators:\n",
    "        # append results to respective list\n",
    "        hotspot.append(hotspot_idx)\n",
    "        indicator.append(indicator_idx)\n",
    "        value.append(globals()[indicator_idx])\n",
    "            "
   ]
  },
  {
   "cell_type": "code",
   "execution_count": 24,
   "id": "9337fe43-5701-4ee3-b011-0e72bfe9b7a2",
   "metadata": {},
   "outputs": [],
   "source": [
    "# Create dataframe\n",
    "hotspot_ind = pd.DataFrame(list(zip(hotspot, indicator, value)), \n",
    "                           columns=['hotspot', 'indicator', 'value'])"
   ]
  },
  {
   "cell_type": "markdown",
   "id": "dc5337a5-1cf7-4aa3-a164-370979e07fec",
   "metadata": {},
   "source": [
    "### Normalization"
   ]
  },
  {
   "cell_type": "code",
   "execution_count": 25,
   "id": "694ce939-9304-4075-815a-8e6e472b422d",
   "metadata": {},
   "outputs": [],
   "source": [
    "# Pivot wide\n",
    "hotspot_ind_wide = hotspot_ind.pivot(index='hotspot',columns=['indicator'], values='value')\n",
    "hotspot_ind_wide.reset_index(inplace=True)"
   ]
  },
  {
   "cell_type": "code",
   "execution_count": 26,
   "id": "f85d5456-7bcd-40ac-b728-fa58d71cf021",
   "metadata": {},
   "outputs": [],
   "source": [
    "# Create copy and keep only species richness and evenness\n",
    "df_norm = hotspot_ind_wide.copy()\n",
    "df_norm = df_norm[indicators[1:3]]"
   ]
  },
  {
   "cell_type": "code",
   "execution_count": 27,
   "id": "73abe152-3d2f-41e0-8e3f-e24c76a8561d",
   "metadata": {},
   "outputs": [],
   "source": [
    "# Normalization\n",
    "scaler = MinMaxScaler()\n",
    "for c in df_norm.columns:\n",
    "    df_norm[c] = scaler.fit_transform(df_norm[c].values.reshape(-1,1))"
   ]
  },
  {
   "cell_type": "markdown",
   "id": "2f5501d1-f50f-41d0-89d8-89ab78a8883b",
   "metadata": {},
   "source": [
    "### Optimization of clustering"
   ]
  },
  {
   "cell_type": "code",
   "execution_count": 28,
   "id": "22799af7-fba6-40aa-8bed-54298c645f6e",
   "metadata": {},
   "outputs": [
    {
     "data": {
      "text/plain": [
       "[<matplotlib.lines.Line2D at 0x7f036918e5b0>]"
      ]
     },
     "execution_count": 28,
     "metadata": {},
     "output_type": "execute_result"
    },
    {
     "data": {
      "image/png": "[encoded data removed]",
      "text/plain": [
       "<Figure size 432x288 with 1 Axes>"
      ]
     },
     "metadata": {
      "needs_background": "light"
     },
     "output_type": "display_data"
    }
   ],
   "source": [
    "# Find optimal number of clusters\n",
    "\n",
    "results = {'n':[], 'ss':[]}\n",
    "\n",
    "for num_clusters in range(2,len(df_norm)):\n",
    "    \n",
    "    # Do KMeans clustering\n",
    "    kmeans_output = KMeans(n_clusters=num_clusters, n_init=10).fit(df_norm)\n",
    "    \n",
    "    # Calculate silhouette score\n",
    "    clustering_ids_kmeans = kmeans_output.labels_\n",
    "    silhouette_kmeans = silhouette_score(df_norm, clustering_ids_kmeans)\n",
    "    \n",
    "    results['n'].append(num_clusters)\n",
    "    results['ss'].append(silhouette_kmeans)\n",
    "\n",
    "plt.plot(results['n'], results['ss'])"
   ]
  },
  {
   "cell_type": "code",
   "execution_count": 29,
   "id": "083085e4-c929-439a-a3d0-7109a282968f",
   "metadata": {},
   "outputs": [],
   "source": [
    "# Optimal number clusters\n",
    "opt_cluster=results['n'][np.argmax(results['ss'])]"
   ]
  },
  {
   "cell_type": "markdown",
   "id": "6c7840c1-8f7b-44fd-b945-6601b4daa08d",
   "metadata": {},
   "source": [
    "### KMeans clustering"
   ]
  },
  {
   "cell_type": "code",
   "execution_count": 30,
   "id": "6ae8b295-7ee2-4071-ad22-08202c1434fd",
   "metadata": {},
   "outputs": [],
   "source": [
    "# Run clustering with optimal number of clusters\n",
    "kmeans_method = KMeans(n_clusters=opt_cluster, n_init=100).fit(df_norm)"
   ]
  },
  {
   "cell_type": "code",
   "execution_count": 31,
   "id": "0899d0a3-fd9f-4e76-b993-13d53485d5fb",
   "metadata": {},
   "outputs": [],
   "source": [
    "# Cluster mapping\n",
    "mapping = dict(zip(hotspots,list(kmeans_method.labels_+1)))"
   ]
  },
  {
   "cell_type": "code",
   "execution_count": 32,
   "id": "e5e8a165-4ab6-467e-bc36-e1de2be22188",
   "metadata": {},
   "outputs": [],
   "source": [
    "# Map k_cluster back to hotspot_ind (long format) and chull\n",
    "hotspot_ind.insert(loc=1, column='k_cluster', value=hotspot_ind['hotspot'].map(mapping))\n",
    "chull.insert(loc=1, column='k_cluster', value=chull['hotspot'].map(mapping))"
   ]
  },
  {
   "cell_type": "markdown",
   "id": "8ad7542b-5913-4403-bbb2-4015ea65e827",
   "metadata": {},
   "source": [
    "### Making sense of data"
   ]
  },
  {
   "cell_type": "code",
   "execution_count": 33,
   "id": "6b68b817-7a70-4967-8944-f823dfdd80ef",
   "metadata": {},
   "outputs": [],
   "source": [
    "hotspot_ind_wide.insert(loc=1, column='k_cluster', value=hotspot_ind_wide['hotspot'].map(mapping))"
   ]
  },
  {
   "cell_type": "code",
   "execution_count": 34,
   "id": "50558147-a949-40fb-a2d0-7e8df009286d",
   "metadata": {},
   "outputs": [
    {
     "data": {
      "text/plain": [
       "<AxesSubplot:xlabel='sp_richness', ylabel='sp_evenness'>"
      ]
     },
     "execution_count": 34,
     "metadata": {},
     "output_type": "execute_result"
    },
    {
     "data": {
      "image/png": "[encoded data removed]",
      "text/plain": [
       "<Figure size 432x288 with 1 Axes>"
      ]
     },
     "metadata": {
      "needs_background": "light"
     },
     "output_type": "display_data"
    }
   ],
   "source": [
    "sns.scatterplot(data=hotspot_ind_wide, x='sp_richness', y='sp_evenness', hue='k_cluster')"
   ]
  },
  {
   "cell_type": "code",
   "execution_count": 35,
   "id": "7fec6c79-9707-4c29-978e-d08bb738dc6e",
   "metadata": {},
   "outputs": [
    {
     "data": {
      "text/plain": [
       "<AxesSubplot:>"
      ]
     },
     "execution_count": 35,
     "metadata": {},
     "output_type": "execute_result"
    },
    {
     "data": {
      "image/png": "[encoded data removed]",
      "text/plain": [
       "<Figure size 864x648 with 1 Axes>"
      ]
     },
     "metadata": {
      "needs_background": "light"
     },
     "output_type": "display_data"
    }
   ],
   "source": [
    "# Plot now\n",
    "fig, ax = plt.subplots(1,1, figsize=(12,9))\n",
    "ldn.plot(edgecolor='red', facecolor='none', ax=ax)\n",
    "ldn_hotspot.plot(marker='*', color='green', markersize=1.0, ax=ax);\n",
    "chull.plot(column='k_cluster', facecolor='none', linewidth = 2.0, \n",
    "           categorical = True, cmap = 'Paired', legend=True,ax=ax)"
   ]
  },
  {
   "cell_type": "markdown",
   "id": "17c1929a-ca77-4125-a357-1e81c43c1d04",
   "metadata": {},
   "source": [
    "## Key Takeaways:\n",
    "- Using OPTICS, 13 biodiversity hotspots were identified in London.\n",
    "- Using KMeans clustering, the hotspots were divided into two clusters. 5 hotspots were in cluster 1, which has high species richness and species evennness; while the remaining 8 hotspots were in cluster 2, which has lower species richness and species evennness. Hence, the 5 hotspots could be prioritized for biodiversity conservation efforts."
   ]
  },
  {
   "cell_type": "code",
   "execution_count": 36,
   "id": "bc15049c-6c96-44b3-a8f9-6600a5e26a22",
   "metadata": {},
   "outputs": [],
   "source": [
    "# Switch CRS to WGS84 because that is what plotly uses\n",
    "chull = chull.to_crs(\"epsg:4326\")"
   ]
  },
  {
   "cell_type": "code",
   "execution_count": 37,
   "id": "aa796aae-79a1-4acd-bb70-73c4297b8ed4",
   "metadata": {},
   "outputs": [],
   "source": [
    "# Pivot indicators wide\n",
    "hotspot_ind_wide = hotspot_ind.pivot(index=['hotspot'],columns=['indicator'], values='value').reset_index()\n",
    "hotspot_ind_wide.insert(loc=1, column='k_cluster', value=hotspot_ind_wide['hotspot'].map(mapping))"
   ]
  },
  {
   "cell_type": "code",
   "execution_count": 38,
   "id": "c59d3cdb-b78e-4bd2-bf84-a2a5a426fb5e",
   "metadata": {},
   "outputs": [],
   "source": [
    "# Merge indicator value to geometry then re-order columns\n",
    "hotspots_merge = chull.merge(hotspot_ind_wide[['hotspot','occ','sp_evenness','sp_richness']],\n",
    "                                on = 'hotspot')\n",
    "hotspots_merge = hotspots_merge[['hotspot','k_cluster','occ', 'sp_richness', 'sp_evenness','convex_hull']]"
   ]
  },
  {
   "cell_type": "code",
   "execution_count": 39,
   "id": "ae0b3a9b-f2e9-4188-97e8-e125856f0f1c",
   "metadata": {},
   "outputs": [],
   "source": [
    "# Convert CRS to BNG\n",
    "hotspots_merge=hotspots_merge.to_crs('epsg:27700')"
   ]
  },
  {
   "cell_type": "code",
   "execution_count": 40,
   "id": "a7b7b137-155a-4681-9fbc-f6d862145659",
   "metadata": {},
   "outputs": [],
   "source": [
    "# Find centroid\n",
    "hotspots_centroid=hotspots_merge.centroid"
   ]
  },
  {
   "cell_type": "code",
   "execution_count": 41,
   "id": "f3118308-8c54-4fe1-ae7f-a314740fd615",
   "metadata": {},
   "outputs": [],
   "source": [
    "# Convert CRS back to WGS\n",
    "hotspots_centroid=hotspots_centroid.to_crs('epsg:4326')\n",
    "hotspots_merge=hotspots_merge.to_crs('epsg:4326')"
   ]
  },
  {
   "cell_type": "code",
   "execution_count": 42,
   "id": "d3b55814-4b7b-435a-8e90-eb8f6e6f4761",
   "metadata": {},
   "outputs": [],
   "source": [
    "# Insert x and y coordinates of centroid\n",
    "hotspots_merge.insert(loc=5, column='centroid_x',value=hotspots_centroid.geometry.x)\n",
    "hotspots_merge.insert(loc=6, column='centroid_y',value=hotspots_centroid.geometry.y)"
   ]
  },
  {
   "cell_type": "code",
   "execution_count": 43,
   "id": "83df1718-fce5-4309-96b5-2d78df579dd6",
   "metadata": {},
   "outputs": [],
   "source": [
    "hotspots_merge=hotspots_merge.sort_values(['k_cluster','centroid_x']).reset_index().drop(columns='index')\n",
    "mapper=dict(zip(hotspots_merge.hotspot,list(range(1,len(hotspots_merge)+1))))\n",
    "hotspots_merge['hotspot']=hotspots_merge['hotspot'].map(mapper)"
   ]
  },
  {
   "cell_type": "code",
   "execution_count": 44,
   "id": "6a3b8fda-ff1a-45cf-b0a4-509da3c42c1d",
   "metadata": {},
   "outputs": [],
   "source": [
    "# Add in zoom level\n",
    "hotspots_merge.insert(loc=7, column='zoom_level',\n",
    "                      value=[10, 10, 10.8, 10.8, 11.5, 11, 11, 9.7, 11.5, 12, 12, 11.8, 11.5])"
   ]
  },
  {
   "cell_type": "code",
   "execution_count": 45,
   "id": "0b6b88de-50e9-4198-8734-bc11e3c70dcf",
   "metadata": {},
   "outputs": [],
   "source": [
    "ldn_hotspot['hotspot']=ldn_hotspot['hotspot'].map(mapper)"
   ]
  },
  {
   "cell_type": "code",
   "execution_count": 46,
   "id": "76c44a2f-ddca-49f5-a97d-5215711ce9b7",
   "metadata": {},
   "outputs": [],
   "source": [
    "ldn_hotspot.drop(columns=['issue'], inplace=True)"
   ]
  },
  {
   "cell_type": "raw",
   "id": "074c735a-4bbf-47fd-a84d-82158265df4d",
   "metadata": {},
   "source": [
    "# Save outputs\n",
    "chull.to_file('Output/Part2/2021/hotspots/hotspots_2021.shp')\n",
    "chull.to_file('Output/Part2/2021/hotspots_2021.json', driver=\"GeoJSON\")\n",
    "\n",
    "#ldn_hotspot.to_file('Output/Part2/2021/hotspots/hotspots_2021.shp')\n",
    "ldn_hotspot.to_file('Output/Part2/2021/hotspots_2021_occ.json', driver=\"GeoJSON\")\n",
    "\n",
    "hotspot_ind.to_csv('Output/Part2/2021/hotspot_ind_2021.csv', index=False)\n",
    "hotspot_ind_wide.to_csv('Output/Part2/2021/hotspot_ind_wide_2021.csv', index=False)\n",
    "hotspots_merge.to_file('Output/Part2/2021/hotspots_data.json', driver=\"GeoJSON\")"
   ]
  }
 ],
 "metadata": {
  "kernelspec": {
   "display_name": "Python 3 (ipykernel)",
   "language": "python",
   "name": "python3"
  },
  "language_info": {
   "codemirror_mode": {
    "name": "ipython",
    "version": 3
   },
   "file_extension": ".py",
   "mimetype": "text/x-python",
   "name": "python",
   "nbconvert_exporter": "python",
   "pygments_lexer": "ipython3",
   "version": "3.9.6"
  }
 },
 "nbformat": 4,
 "nbformat_minor": 5
}
